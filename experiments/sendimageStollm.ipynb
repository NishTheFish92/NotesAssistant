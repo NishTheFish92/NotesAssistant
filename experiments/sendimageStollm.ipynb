{
 "cells": [
  {
   "cell_type": "code",
   "execution_count": 1,
   "id": "de977d6f",
   "metadata": {},
   "outputs": [
    {
     "name": "stderr",
     "output_type": "stream",
     "text": [
      "c:\\Users\\Nisha\\Coding\\NotesAssistant\\.venv\\Lib\\site-packages\\tqdm\\auto.py:21: TqdmWarning: IProgress not found. Please update jupyter and ipywidgets. See https://ipywidgets.readthedocs.io/en/stable/user_install.html\n",
      "  from .autonotebook import tqdm as notebook_tqdm\n"
     ]
    }
   ],
   "source": [
    "from dotenv import load_dotenv\n",
    "import os\n",
    "from langchain_core.output_parsers import StrOutputParser\n",
    "from langchain_core.messages import HumanMessage\n",
    "import base64\n",
    "from langchain_google_genai import ChatGoogleGenerativeAI"
   ]
  },
  {
   "cell_type": "code",
   "execution_count": 2,
   "id": "5967e22e",
   "metadata": {},
   "outputs": [],
   "source": [
    "load_dotenv()\n",
    "api_key = os.environ.get(\"GOOGLE_API_KEY\")\n",
    "llm = ChatGoogleGenerativeAI(\n",
    "    model= \"gemini-2.0-flash\",\n",
    "    convert_system_message_to_human=True,\n",
    "    temperature=0.0,\n",
    ")"
   ]
  },
  {
   "cell_type": "code",
   "execution_count": 3,
   "id": "0064d28a",
   "metadata": {},
   "outputs": [],
   "source": [
    "def img_to_llm(image_file_path):\n",
    "    with open(image_file_path, \"rb\") as image_file:\n",
    "        image_data = image_file.read()\n",
    "    encoded_image = base64.b64encode(image_data).decode('utf-8')\n",
    "    output_parser = StrOutputParser()\n",
    "\n",
    "    message = HumanMessage(\n",
    "        content=[\n",
    "            {\"type\": \"text\", \"text\": \"Describe the image I am sending.\"},\n",
    "            {\n",
    "                \"type\": \"image_url\",\n",
    "                \"image_url\": {\"url\": f\"data:image/png;base64,{encoded_image}\"}\n",
    "            }\n",
    "        ]\n",
    "    )\n",
    "\n",
    "    response = llm.invoke([message])\n",
    "    parsed_response = output_parser.invoke(response)\n",
    "    return (response.content)"
   ]
  },
  {
   "cell_type": "code",
   "execution_count": 5,
   "id": "8f517aca",
   "metadata": {},
   "outputs": [],
   "source": [
    "output_path = './output_images'\n",
    "for i in range(5):\n",
    "    llm_output = \"\"\n",
    "    image_filename = os.path.join(output_path,f'page_{i+1:03}.png')\n",
    "    llm_output = img_to_llm(image_filename)\n",
    "    text_filename = os.path.join(output_path, f'page_{i+1:03}.txt')\n",
    "    with open(text_filename, 'w', encoding='utf-8') as f:\n",
    "        f.write(llm_output)\n",
    "    "
   ]
  },
  {
   "cell_type": "code",
   "execution_count": null,
   "id": "0956ba77",
   "metadata": {},
   "outputs": [],
   "source": []
  }
 ],
 "metadata": {
  "kernelspec": {
   "display_name": ".venv",
   "language": "python",
   "name": "python3"
  },
  "language_info": {
   "codemirror_mode": {
    "name": "ipython",
    "version": 3
   },
   "file_extension": ".py",
   "mimetype": "text/x-python",
   "name": "python",
   "nbconvert_exporter": "python",
   "pygments_lexer": "ipython3",
   "version": "3.11.3"
  }
 },
 "nbformat": 4,
 "nbformat_minor": 5
}
