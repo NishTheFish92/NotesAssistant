{
 "cells": [
  {
   "cell_type": "code",
   "execution_count": 2,
   "id": "6e68c134",
   "metadata": {},
   "outputs": [],
   "source": [
    "from dotenv import load_dotenv\n",
    "import os\n",
    "\n",
    "load_dotenv()\n",
    "api_key = os.environ.get(\"GOOGLE_API_KEY\")"
   ]
  },
  {
   "cell_type": "code",
   "execution_count": 3,
   "id": "eb247edf",
   "metadata": {},
   "outputs": [
    {
     "name": "stderr",
     "output_type": "stream",
     "text": [
      "c:\\Users\\Nisha\\Coding\\NotesAssistant\\.venv\\Lib\\site-packages\\tqdm\\auto.py:21: TqdmWarning: IProgress not found. Please update jupyter and ipywidgets. See https://ipywidgets.readthedocs.io/en/stable/user_install.html\n",
      "  from .autonotebook import tqdm as notebook_tqdm\n"
     ]
    }
   ],
   "source": [
    "from langchain_google_genai import ChatGoogleGenerativeAI"
   ]
  },
  {
   "cell_type": "code",
   "execution_count": 4,
   "id": "4bd5b53c",
   "metadata": {},
   "outputs": [],
   "source": [
    "llm = ChatGoogleGenerativeAI(\n",
    "    model= \"gemini-2.0-flash\",\n",
    "    convert_system_message_to_human=True,\n",
    "    temperature=0.0,\n",
    ")"
   ]
  },
  {
   "cell_type": "code",
   "execution_count": 8,
   "id": "ecf8b1bf",
   "metadata": {},
   "outputs": [
    {
     "name": "stdout",
     "output_type": "stream",
     "text": [
      "Here's a description of the image:\n",
      "\n",
      "The image is a slide or document excerpt, likely from a course syllabus or lecture notes. It contains the following elements:\n",
      "\n",
      "*   **Title:** \"BCSE205L\" in green.\n",
      "*   **Course Name:** \"Computer Architecture and Organization\" in green, below the title.\n",
      "*   **Module Title:** \"Module 5 – Interfacing and Communication\" in brown, below the course name.\n",
      "*   **Table:** A table with three columns:\n",
      "    *   \"Module:5\" in the first column.\n",
      "    *   \"Interfacing and Communication\" in the second column.\n",
      "    *   \"5 Hours\" in the third column.\n",
      "    Below the header row, the table contains a list of topics related to interfacing and communication, including I/O fundamentals, handshaking, buffering, I/O modules, I/O techniques (Programmed I/O, Interrupt-driven I/O, Direct Memory Access, Direct Cache Access), interrupt structures, vectored and prioritized-interrupt overhead, buses (synchronous and asynchronous), and arbitration.\n",
      "*   **Instructor Information:**\n",
      "    *   \"Dr. C.R.Dhivyaa\" in blue.\n",
      "    *   \"Assistant Professor\" below the name.\n",
      "    *   \"School of Computer Science and Engineering\" below the title.\n",
      "    *   \"Vellore Institute of Technology, Vellore\" below the title.\n",
      "\n",
      "The overall impression is that this is a structured overview of a specific module within a computer architecture course.\n"
     ]
    }
   ],
   "source": [
    "from langchain_core.output_parsers import StrOutputParser\n",
    "from langchain_core.messages import HumanMessage\n",
    "import base64\n",
    "\n",
    "image_file_path = \"./output_images/page_001.png\"\n",
    "with open(image_file_path, \"rb\") as image_file:\n",
    "    image_data = image_file.read()\n",
    "encoded_image = base64.b64encode(image_data).decode('utf-8')\n",
    "output_parser = StrOutputParser()\n",
    "\n",
    "message = HumanMessage(\n",
    "    content=[\n",
    "        {\"type\": \"text\", \"text\": \"Describe the image I am sending.\"},\n",
    "        {\n",
    "            \"type\": \"image_url\",\n",
    "            \"image_url\": {\"url\": f\"data:image/png;base64,{encoded_image}\"}\n",
    "        }\n",
    "    ]\n",
    ")\n",
    "\n",
    "response = llm.invoke([message])\n",
    "#parsed_response = output_parser.invoke(response)\n",
    "print(response.content)"
   ]
  }
 ],
 "metadata": {
  "kernelspec": {
   "display_name": ".venv",
   "language": "python",
   "name": "python3"
  },
  "language_info": {
   "codemirror_mode": {
    "name": "ipython",
    "version": 3
   },
   "file_extension": ".py",
   "mimetype": "text/x-python",
   "name": "python",
   "nbconvert_exporter": "python",
   "pygments_lexer": "ipython3",
   "version": "3.11.3"
  }
 },
 "nbformat": 4,
 "nbformat_minor": 5
}
