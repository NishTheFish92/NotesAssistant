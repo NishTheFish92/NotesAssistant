{
 "cells": [
  {
   "cell_type": "code",
   "execution_count": null,
   "id": "6e68c134",
   "metadata": {},
   "outputs": [],
   "source": [
    "from dotenv import load_dotenv\n",
    "import os\n",
    "\n",
    "load_dotenv()\n",
    "api_key = os.environ.get(\"GOOGLE_API_KEY\")"
   ]
  },
  {
   "cell_type": "code",
   "execution_count": null,
   "id": "eb247edf",
   "metadata": {},
   "outputs": [],
   "source": [
    "from langchain_google_genai import ChatGoogleGenerativeAI"
   ]
  },
  {
   "cell_type": "code",
   "execution_count": 17,
   "id": "4bd5b53c",
   "metadata": {},
   "outputs": [],
   "source": [
    "llm = ChatGoogleGenerativeAI(\n",
    "    model= \"gemini-2.0-flash\",\n",
    "    convert_system_message_to_human=True,\n",
    "    temperature=0.0,\n",
    ")"
   ]
  },
  {
   "cell_type": "code",
   "execution_count": 31,
   "id": "ecf8b1bf",
   "metadata": {},
   "outputs": [
    {
     "name": "stdout",
     "output_type": "stream",
     "text": [
      "Here's a description of the image:\n",
      "\n",
      "The image appears to be a slide or document excerpt related to a computer architecture course. It includes the following elements:\n",
      "\n",
      "*   **Title:** \"BCSE205L\" in green.\n",
      "*   **Course Name:** \"Computer Architecture and Organization\" in green.\n",
      "*   **Module Title:** \"Module 5 – Interfacing and Communication\" in brown.\n",
      "*   **Table:** A table outlining the content of Module 5, including:\n",
      "    *   Module Number: \"Module:5\"\n",
      "    *   Module Topic: \"Interfacing and Communication\"\n",
      "    *   Time Allocation: \"5 Hours\"\n",
      "    *   A list of topics covered within the module, such as I/O fundamentals, handshaking, buffering, I/O modules, I/O techniques (Programmed I/O, Interrupt-driven I/O, Direct Memory Access, Direct Cache Access), interrupt structures, vectored and prioritized-interrupt overhead, buses (synchronous and asynchronous), and arbitration.\n",
      "*   **Instructor Information:**\n",
      "    *   Name: \"Dr. C.R.Dhivyaa\" in blue.\n",
      "    *   Title: \"Assistant Professor\"\n",
      "    *   Affiliation: \"School of Computer Science and Engineering, Vellore Institute of Technology, Vellore\"\n",
      "\n",
      "In summary, the image presents an overview of Module 5 of a computer architecture course, focusing on interfacing and communication topics, along with the instructor's information.\n"
     ]
    }
   ],
   "source": [
    "from langchain_core.output_parsers import StrOutputParser\n",
    "from langchain_core.messages import HumanMessage\n",
    "import base64\n",
    "\n",
    "image_file_path = \"./output_images/page_001.png\"\n",
    "with open(image_file_path, \"rb\") as image_file:\n",
    "    image_data = image_file.read()\n",
    "encoded_image = base64.b64encode(image_data).decode('utf-8')\n",
    "output_parser = StrOutputParser()\n",
    "\n",
    "message = HumanMessage(\n",
    "    content=[\n",
    "        {\"type\": \"text\", \"text\": \"Describe the image I am sending.\"},\n",
    "        {\n",
    "            \"type\": \"image_url\",\n",
    "            \"image_url\": {\"url\": f\"data:image/png;base64,{encoded_image}\"}\n",
    "        }\n",
    "    ]\n",
    ")\n",
    "\n",
    "response = llm.invoke([message])\n",
    "parsed_response = output_parser.invoke(response)\n",
    "print(response.content)"
   ]
  }
 ],
 "metadata": {
  "kernelspec": {
   "display_name": ".venv",
   "language": "python",
   "name": "python3"
  },
  "language_info": {
   "codemirror_mode": {
    "name": "ipython",
    "version": 3
   },
   "file_extension": ".py",
   "mimetype": "text/x-python",
   "name": "python",
   "nbconvert_exporter": "python",
   "pygments_lexer": "ipython3",
   "version": "3.11.3"
  }
 },
 "nbformat": 4,
 "nbformat_minor": 5
}
