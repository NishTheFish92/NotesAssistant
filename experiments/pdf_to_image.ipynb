{
 "cells": [
  {
   "cell_type": "code",
   "execution_count": 1,
   "id": "a08af39b",
   "metadata": {},
   "outputs": [],
   "source": [
    "from pdf2image import convert_from_path\n",
    "import os"
   ]
  },
  {
   "cell_type": "code",
   "execution_count": 2,
   "id": "77d393b5",
   "metadata": {},
   "outputs": [],
   "source": [
    "pdf_path = '../PDFs/Mod5.pdf'\n",
    "output_path = './output_images'\n",
    "os.makedirs(output_path,exist_ok=True)\n",
    "images = convert_from_path(pdf_path, dpi=200,first_page=1,last_page=2)"
   ]
  },
  {
   "cell_type": "code",
   "execution_count": 3,
   "id": "17b7d666",
   "metadata": {},
   "outputs": [],
   "source": [
    "for i, image in enumerate(images):\n",
    "    image_filename = os.path.join(output_path, f'page_{i+1:03}.png')\n",
    "    image.save(image_filename, 'PNG')"
   ]
  },
  {
   "cell_type": "code",
   "execution_count": null,
   "id": "cea1c439",
   "metadata": {},
   "outputs": [],
   "source": []
  }
 ],
 "metadata": {
  "kernelspec": {
   "display_name": ".venv",
   "language": "python",
   "name": "python3"
  },
  "language_info": {
   "codemirror_mode": {
    "name": "ipython",
    "version": 3
   },
   "file_extension": ".py",
   "mimetype": "text/x-python",
   "name": "python",
   "nbconvert_exporter": "python",
   "pygments_lexer": "ipython3",
   "version": "3.11.3"
  }
 },
 "nbformat": 4,
 "nbformat_minor": 5
}
